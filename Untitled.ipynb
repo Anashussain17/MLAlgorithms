{
 "cells": [
  {
   "cell_type": "code",
   "execution_count": 1,
   "id": "a88a3b0f-a631-4fcb-ba76-e670170ddcbd",
   "metadata": {},
   "outputs": [
    {
     "name": "stdout",
     "output_type": "stream",
     "text": [
      "Collecting notebook-as-pdf\n",
      "  Downloading notebook_as_pdf-0.5.0-py3-none-any.whl.metadata (2.4 kB)\n",
      "Requirement already satisfied: nbconvert in c:\\users\\hp\\anaconda3\\lib\\site-packages (from notebook-as-pdf) (7.10.0)\n",
      "Collecting pyppeteer (from notebook-as-pdf)\n",
      "  Downloading pyppeteer-2.0.0-py3-none-any.whl.metadata (7.1 kB)\n",
      "Collecting PyPDF2 (from notebook-as-pdf)\n",
      "  Downloading pypdf2-3.0.1-py3-none-any.whl.metadata (6.8 kB)\n",
      "Requirement already satisfied: beautifulsoup4 in c:\\users\\hp\\anaconda3\\lib\\site-packages (from nbconvert->notebook-as-pdf) (4.12.2)\n",
      "Requirement already satisfied: bleach!=5.0.0 in c:\\users\\hp\\anaconda3\\lib\\site-packages (from nbconvert->notebook-as-pdf) (4.1.0)\n",
      "Requirement already satisfied: defusedxml in c:\\users\\hp\\anaconda3\\lib\\site-packages (from nbconvert->notebook-as-pdf) (0.7.1)\n",
      "Requirement already satisfied: jinja2>=3.0 in c:\\users\\hp\\anaconda3\\lib\\site-packages (from nbconvert->notebook-as-pdf) (3.1.3)\n",
      "Requirement already satisfied: jupyter-core>=4.7 in c:\\users\\hp\\anaconda3\\lib\\site-packages (from nbconvert->notebook-as-pdf) (5.5.0)\n",
      "Requirement already satisfied: jupyterlab-pygments in c:\\users\\hp\\anaconda3\\lib\\site-packages (from nbconvert->notebook-as-pdf) (0.1.2)\n",
      "Requirement already satisfied: markupsafe>=2.0 in c:\\users\\hp\\anaconda3\\lib\\site-packages (from nbconvert->notebook-as-pdf) (2.1.3)\n",
      "Requirement already satisfied: mistune<4,>=2.0.3 in c:\\users\\hp\\anaconda3\\lib\\site-packages (from nbconvert->notebook-as-pdf) (2.0.4)\n",
      "Requirement already satisfied: nbclient>=0.5.0 in c:\\users\\hp\\anaconda3\\lib\\site-packages (from nbconvert->notebook-as-pdf) (0.8.0)\n",
      "Requirement already satisfied: nbformat>=5.7 in c:\\users\\hp\\anaconda3\\lib\\site-packages (from nbconvert->notebook-as-pdf) (5.9.2)\n",
      "Requirement already satisfied: packaging in c:\\users\\hp\\anaconda3\\lib\\site-packages (from nbconvert->notebook-as-pdf) (23.1)\n",
      "Requirement already satisfied: pandocfilters>=1.4.1 in c:\\users\\hp\\anaconda3\\lib\\site-packages (from nbconvert->notebook-as-pdf) (1.5.0)\n",
      "Requirement already satisfied: pygments>=2.4.1 in c:\\users\\hp\\anaconda3\\lib\\site-packages (from nbconvert->notebook-as-pdf) (2.15.1)\n",
      "Requirement already satisfied: tinycss2 in c:\\users\\hp\\anaconda3\\lib\\site-packages (from nbconvert->notebook-as-pdf) (1.2.1)\n",
      "Requirement already satisfied: traitlets>=5.1 in c:\\users\\hp\\anaconda3\\lib\\site-packages (from nbconvert->notebook-as-pdf) (5.7.1)\n",
      "Requirement already satisfied: appdirs<2.0.0,>=1.4.3 in c:\\users\\hp\\anaconda3\\lib\\site-packages (from pyppeteer->notebook-as-pdf) (1.4.4)\n",
      "Requirement already satisfied: certifi>=2023 in c:\\users\\hp\\anaconda3\\lib\\site-packages (from pyppeteer->notebook-as-pdf) (2024.2.2)\n",
      "Requirement already satisfied: importlib-metadata>=1.4 in c:\\users\\hp\\anaconda3\\lib\\site-packages (from pyppeteer->notebook-as-pdf) (7.0.1)\n",
      "Collecting pyee<12.0.0,>=11.0.0 (from pyppeteer->notebook-as-pdf)\n",
      "  Downloading pyee-11.1.0-py3-none-any.whl.metadata (2.8 kB)\n",
      "Requirement already satisfied: tqdm<5.0.0,>=4.42.1 in c:\\users\\hp\\anaconda3\\lib\\site-packages (from pyppeteer->notebook-as-pdf) (4.65.0)\n",
      "Collecting urllib3<2.0.0,>=1.25.8 (from pyppeteer->notebook-as-pdf)\n",
      "  Downloading urllib3-1.26.18-py2.py3-none-any.whl.metadata (48 kB)\n",
      "     ---------------------------------------- 0.0/48.9 kB ? eta -:--:--\n",
      "     ---------------------------------------- 48.9/48.9 kB 1.2 MB/s eta 0:00:00\n",
      "Collecting websockets<11.0,>=10.0 (from pyppeteer->notebook-as-pdf)\n",
      "  Downloading websockets-10.4-cp311-cp311-win_amd64.whl.metadata (6.4 kB)\n",
      "Requirement already satisfied: six>=1.9.0 in c:\\users\\hp\\anaconda3\\lib\\site-packages (from bleach!=5.0.0->nbconvert->notebook-as-pdf) (1.16.0)\n",
      "Requirement already satisfied: webencodings in c:\\users\\hp\\anaconda3\\lib\\site-packages (from bleach!=5.0.0->nbconvert->notebook-as-pdf) (0.5.1)\n",
      "Requirement already satisfied: zipp>=0.5 in c:\\users\\hp\\anaconda3\\lib\\site-packages (from importlib-metadata>=1.4->pyppeteer->notebook-as-pdf) (3.17.0)\n",
      "Requirement already satisfied: platformdirs>=2.5 in c:\\users\\hp\\anaconda3\\lib\\site-packages (from jupyter-core>=4.7->nbconvert->notebook-as-pdf) (3.10.0)\n",
      "Requirement already satisfied: pywin32>=300 in c:\\users\\hp\\anaconda3\\lib\\site-packages (from jupyter-core>=4.7->nbconvert->notebook-as-pdf) (305.1)\n",
      "Requirement already satisfied: jupyter-client>=6.1.12 in c:\\users\\hp\\anaconda3\\lib\\site-packages (from nbclient>=0.5.0->nbconvert->notebook-as-pdf) (8.6.0)\n",
      "Requirement already satisfied: fastjsonschema in c:\\users\\hp\\anaconda3\\lib\\site-packages (from nbformat>=5.7->nbconvert->notebook-as-pdf) (2.16.2)\n",
      "Requirement already satisfied: jsonschema>=2.6 in c:\\users\\hp\\anaconda3\\lib\\site-packages (from nbformat>=5.7->nbconvert->notebook-as-pdf) (4.19.2)\n",
      "Requirement already satisfied: typing-extensions in c:\\users\\hp\\anaconda3\\lib\\site-packages (from pyee<12.0.0,>=11.0.0->pyppeteer->notebook-as-pdf) (4.9.0)\n",
      "Requirement already satisfied: colorama in c:\\users\\hp\\anaconda3\\lib\\site-packages (from tqdm<5.0.0,>=4.42.1->pyppeteer->notebook-as-pdf) (0.4.6)\n",
      "Requirement already satisfied: soupsieve>1.2 in c:\\users\\hp\\anaconda3\\lib\\site-packages (from beautifulsoup4->nbconvert->notebook-as-pdf) (2.5)\n",
      "Requirement already satisfied: attrs>=22.2.0 in c:\\users\\hp\\anaconda3\\lib\\site-packages (from jsonschema>=2.6->nbformat>=5.7->nbconvert->notebook-as-pdf) (23.1.0)\n",
      "Requirement already satisfied: jsonschema-specifications>=2023.03.6 in c:\\users\\hp\\anaconda3\\lib\\site-packages (from jsonschema>=2.6->nbformat>=5.7->nbconvert->notebook-as-pdf) (2023.7.1)\n",
      "Requirement already satisfied: referencing>=0.28.4 in c:\\users\\hp\\anaconda3\\lib\\site-packages (from jsonschema>=2.6->nbformat>=5.7->nbconvert->notebook-as-pdf) (0.30.2)\n",
      "Requirement already satisfied: rpds-py>=0.7.1 in c:\\users\\hp\\anaconda3\\lib\\site-packages (from jsonschema>=2.6->nbformat>=5.7->nbconvert->notebook-as-pdf) (0.10.6)\n",
      "Requirement already satisfied: python-dateutil>=2.8.2 in c:\\users\\hp\\anaconda3\\lib\\site-packages (from jupyter-client>=6.1.12->nbclient>=0.5.0->nbconvert->notebook-as-pdf) (2.8.2)\n",
      "Requirement already satisfied: pyzmq>=23.0 in c:\\users\\hp\\anaconda3\\lib\\site-packages (from jupyter-client>=6.1.12->nbclient>=0.5.0->nbconvert->notebook-as-pdf) (25.1.2)\n",
      "Requirement already satisfied: tornado>=6.2 in c:\\users\\hp\\anaconda3\\lib\\site-packages (from jupyter-client>=6.1.12->nbclient>=0.5.0->nbconvert->notebook-as-pdf) (6.3.3)\n",
      "Downloading notebook_as_pdf-0.5.0-py3-none-any.whl (6.5 kB)\n",
      "Downloading pypdf2-3.0.1-py3-none-any.whl (232 kB)\n",
      "   ---------------------------------------- 0.0/232.6 kB ? eta -:--:--\n",
      "   ---------------------------------------- 232.6/232.6 kB 6.9 MB/s eta 0:00:00\n",
      "Downloading pyppeteer-2.0.0-py3-none-any.whl (82 kB)\n",
      "   ---------------------------------------- 0.0/82.9 kB ? eta -:--:--\n",
      "   ---------------------------------------- 82.9/82.9 kB ? eta 0:00:00\n",
      "Downloading pyee-11.1.0-py3-none-any.whl (15 kB)\n",
      "Downloading urllib3-1.26.18-py2.py3-none-any.whl (143 kB)\n",
      "   ---------------------------------------- 0.0/143.8 kB ? eta -:--:--\n",
      "   ---------------------------------------- 143.8/143.8 kB 8.3 MB/s eta 0:00:00\n",
      "Downloading websockets-10.4-cp311-cp311-win_amd64.whl (101 kB)\n",
      "   ---------------------------------------- 0.0/101.4 kB ? eta -:--:--\n",
      "   ---------------------------------------- 101.4/101.4 kB ? eta 0:00:00\n",
      "Installing collected packages: websockets, urllib3, PyPDF2, pyee, pyppeteer, notebook-as-pdf\n",
      "  Attempting uninstall: urllib3\n",
      "    Found existing installation: urllib3 2.0.7\n",
      "    Uninstalling urllib3-2.0.7:\n",
      "      Successfully uninstalled urllib3-2.0.7\n",
      "Successfully installed PyPDF2-3.0.1 notebook-as-pdf-0.5.0 pyee-11.1.0 pyppeteer-2.0.0 urllib3-1.26.18 websockets-10.4\n",
      "Note: you may need to restart the kernel to use updated packages.\n"
     ]
    }
   ],
   "source": [
    "pip install -U notebook-as-pdf"
   ]
  },
  {
   "cell_type": "code",
   "execution_count": 2,
   "id": "0f00290b-87f9-45b3-832f-363a9dadcf4b",
   "metadata": {},
   "outputs": [
    {
     "name": "stdout",
     "output_type": "stream",
     "text": [
      "Requirement already satisfied: Pyppeteer in c:\\users\\hp\\anaconda3\\lib\\site-packages (2.0.0)\n",
      "Requirement already satisfied: appdirs<2.0.0,>=1.4.3 in c:\\users\\hp\\anaconda3\\lib\\site-packages (from Pyppeteer) (1.4.4)\n",
      "Requirement already satisfied: certifi>=2023 in c:\\users\\hp\\anaconda3\\lib\\site-packages (from Pyppeteer) (2024.2.2)\n",
      "Requirement already satisfied: importlib-metadata>=1.4 in c:\\users\\hp\\anaconda3\\lib\\site-packages (from Pyppeteer) (7.0.1)\n",
      "Requirement already satisfied: pyee<12.0.0,>=11.0.0 in c:\\users\\hp\\anaconda3\\lib\\site-packages (from Pyppeteer) (11.1.0)\n",
      "Requirement already satisfied: tqdm<5.0.0,>=4.42.1 in c:\\users\\hp\\anaconda3\\lib\\site-packages (from Pyppeteer) (4.65.0)\n",
      "Requirement already satisfied: urllib3<2.0.0,>=1.25.8 in c:\\users\\hp\\anaconda3\\lib\\site-packages (from Pyppeteer) (1.26.18)\n",
      "Requirement already satisfied: websockets<11.0,>=10.0 in c:\\users\\hp\\anaconda3\\lib\\site-packages (from Pyppeteer) (10.4)\n",
      "Requirement already satisfied: zipp>=0.5 in c:\\users\\hp\\anaconda3\\lib\\site-packages (from importlib-metadata>=1.4->Pyppeteer) (3.17.0)\n",
      "Requirement already satisfied: typing-extensions in c:\\users\\hp\\anaconda3\\lib\\site-packages (from pyee<12.0.0,>=11.0.0->Pyppeteer) (4.9.0)\n",
      "Requirement already satisfied: colorama in c:\\users\\hp\\anaconda3\\lib\\site-packages (from tqdm<5.0.0,>=4.42.1->Pyppeteer) (0.4.6)\n"
     ]
    }
   ],
   "source": [
    "!pip install Pyppeteer"
   ]
  },
  {
   "cell_type": "code",
   "execution_count": 3,
   "id": "f0192ec8-b610-48a5-8ee5-c62ceea9eb65",
   "metadata": {},
   "outputs": [
    {
     "name": "stderr",
     "output_type": "stream",
     "text": [
      "[INFO] Starting Chromium download.\n",
      "Traceback (most recent call last):\n",
      "  File \"<frozen runpy>\", line 198, in _run_module_as_main\n",
      "  File \"<frozen runpy>\", line 88, in _run_code\n",
      "  File \"C:\\Users\\HP\\anaconda3\\Scripts\\pyppeteer-install.exe\\__main__.py\", line 7, in <module>\n",
      "  File \"C:\\Users\\HP\\anaconda3\\Lib\\site-packages\\pyppeteer\\command.py\", line 14, in install\n",
      "    download_chromium()\n",
      "  File \"C:\\Users\\HP\\anaconda3\\Lib\\site-packages\\pyppeteer\\chromium_downloader.py\", line 138, in download_chromium\n",
      "    extract_zip(download_zip(get_url()), DOWNLOADS_FOLDER / REVISION)\n",
      "                ^^^^^^^^^^^^^^^^^^^^^^^\n",
      "  File \"C:\\Users\\HP\\anaconda3\\Lib\\site-packages\\pyppeteer\\chromium_downloader.py\", line 82, in download_zip\n",
      "    raise OSError(f'Chromium downloadable not found at {url}: ' f'Received {r.data.decode()}.\\n')\n",
      "OSError: Chromium downloadable not found at https://storage.googleapis.com/chromium-browser-snapshots/Win_x64/1181205/chrome-win.zip: Received <?xml version='1.0' encoding='UTF-8'?><Error><Code>NoSuchKey</Code><Message>The specified key does not exist.</Message><Details>No such object: chromium-browser-snapshots/Win_x64/1181205/chrome-win.zip</Details></Error>.\n",
      "\n"
     ]
    }
   ],
   "source": [
    "!pyppeteer-install"
   ]
  },
  {
   "cell_type": "code",
   "execution_count": null,
   "id": "8fe60dd2-dec4-410b-927c-096745b54186",
   "metadata": {},
   "outputs": [],
   "source": []
  }
 ],
 "metadata": {
  "kernelspec": {
   "display_name": "Python 3 (ipykernel)",
   "language": "python",
   "name": "python3"
  },
  "language_info": {
   "codemirror_mode": {
    "name": "ipython",
    "version": 3
   },
   "file_extension": ".py",
   "mimetype": "text/x-python",
   "name": "python",
   "nbconvert_exporter": "python",
   "pygments_lexer": "ipython3",
   "version": "3.11.7"
  }
 },
 "nbformat": 4,
 "nbformat_minor": 5
}
