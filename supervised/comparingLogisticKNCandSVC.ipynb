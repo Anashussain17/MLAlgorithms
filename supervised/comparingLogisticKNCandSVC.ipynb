{
 "cells": [
  {
   "cell_type": "markdown",
   "metadata": {},
   "source": [
    "# Supervised Learning Project\n",
    "\n",
    "\n",
    "A machine learning project using Python. This project is a supervised learning, classification problem with multiple classes.  In this project, we will compare and contrast the performance of three different learning models on a common and publicly available dataset.\n",
    "\n",
    "This project depends on the following libraries.  Make sure you have them installed.\n",
    "\n",
    "* scipy\n",
    "* numpy\n",
    "* matplotlib\n",
    "* pandas\n",
    "* scikit-learn\n",
    "\n",
    "To double check that you have them installed, run the following code cell:"
   ]
  },
  {
   "cell_type": "code",
   "execution_count": 1,
   "metadata": {},
   "outputs": [
    {
     "name": "stdout",
     "output_type": "stream",
     "text": [
      "Python: 3.11.7 | packaged by Anaconda, Inc. | (main, Dec 15 2023, 18:05:47) [MSC v.1916 64 bit (AMD64)]\n",
      "scipy: 1.11.4\n",
      "numpy: 1.26.4\n",
      "matplotlib: 3.8.0\n",
      "pandas: 2.1.4\n",
      "sklearn: 1.2.2\n"
     ]
    }
   ],
   "source": [
    "import sys\n",
    "import scipy\n",
    "import numpy\n",
    "import matplotlib\n",
    "import pandas\n",
    "import sklearn\n",
    "\n",
    "print('Python: {}'.format(sys.version))\n",
    "print('scipy: {}'.format(scipy.__version__))\n",
    "print('numpy: {}'.format(numpy.__version__))\n",
    "print('matplotlib: {}'.format(matplotlib.__version__))\n",
    "print('pandas: {}'.format(pandas.__version__))\n",
    "print('sklearn: {}'.format(sklearn.__version__))"
   ]
  },
  {
   "cell_type": "markdown",
   "metadata": {},
   "source": [
    "## 1. Import libraries\n",
    "\n",
    "Import all of the modules, functions, and objects we will use in this tutorial."
   ]
  },
  {
   "cell_type": "code",
   "execution_count": 2,
   "metadata": {},
   "outputs": [],
   "source": [
    "from pandas.plotting import scatter_matrix\n",
    "import matplotlib.pyplot as plt\n",
    "from sklearn import model_selection\n",
    "from sklearn.metrics import classification_report\n",
    "from sklearn.metrics import confusion_matrix\n",
    "from sklearn.metrics import accuracy_score\n",
    "from sklearn.linear_model import LogisticRegression\n",
    "from sklearn.neighbors import KNeighborsClassifier\n",
    "from sklearn.svm import SVC"
   ]
  },
  {
   "cell_type": "markdown",
   "metadata": {},
   "source": [
    "## 2. Load the Dataset\n",
    "\n",
    "We will be using Gender Height Weight dataset, which contains 500 observations of both Male and Female details. "
   ]
  },
  {
   "cell_type": "code",
   "execution_count": 3,
   "metadata": {},
   "outputs": [],
   "source": [
    "# Load Dataset\n",
    "url = \"500_Person_Gender_Height_Weight_Index.csv\"\n",
    "names = ['Gender','Height','Weight','Index']\n",
    "dataset = pandas.read_csv(url, names=names)"
   ]
  },
  {
   "cell_type": "markdown",
   "metadata": {},
   "source": [
    "## 2.1 Dataset Properties\n",
    "\n",
    "Lets take a look at the dataset by observing its dimensions, the first few rows of data, a statistical summary of the attributes, and a breakdown of the data by the class variable."
   ]
  },
  {
   "cell_type": "code",
   "execution_count": 4,
   "metadata": {},
   "outputs": [
    {
     "name": "stdout",
     "output_type": "stream",
     "text": [
      "(500, 4)\n"
     ]
    }
   ],
   "source": [
    "# Shape\n",
    "print(dataset.shape)"
   ]
  },
  {
   "cell_type": "code",
   "execution_count": 5,
   "metadata": {},
   "outputs": [
    {
     "name": "stdout",
     "output_type": "stream",
     "text": [
      "    Gender  Height  Weight  Index\n",
      "0     Male     174      96      4\n",
      "1     Male     189      87      2\n",
      "2   Female     185     110      4\n",
      "3   Female     195     104      3\n",
      "4     Male     149      61      3\n",
      "5     Male     189     104      3\n",
      "6     Male     147      92      5\n",
      "7     Male     154     111      5\n",
      "8     Male     174      90      3\n",
      "9   Female     169     103      4\n",
      "10    Male     195      81      2\n",
      "11  Female     159      80      4\n",
      "12  Female     192     101      3\n",
      "13    Male     155      51      2\n",
      "14    Male     191      79      2\n",
      "15  Female     153     107      5\n",
      "16  Female     157     110      5\n",
      "17    Male     140     129      5\n",
      "18    Male     144     145      5\n",
      "19    Male     172     139      5\n"
     ]
    }
   ],
   "source": [
    "# Head\n",
    "print(dataset.head(20))"
   ]
  },
  {
   "cell_type": "code",
   "execution_count": 6,
   "metadata": {},
   "outputs": [
    {
     "name": "stdout",
     "output_type": "stream",
     "text": [
      "           Height      Weight       Index\n",
      "count  500.000000  500.000000  500.000000\n",
      "mean   169.944000  106.000000    3.748000\n",
      "std     16.375261   32.382607    1.355053\n",
      "min    140.000000   50.000000    0.000000\n",
      "25%    156.000000   80.000000    3.000000\n",
      "50%    170.500000  106.000000    4.000000\n",
      "75%    184.000000  136.000000    5.000000\n",
      "max    199.000000  160.000000    5.000000\n"
     ]
    }
   ],
   "source": [
    "# descriptions\n",
    "print(dataset.describe())"
   ]
  },
  {
   "cell_type": "code",
   "execution_count": 7,
   "metadata": {},
   "outputs": [],
   "source": [
    "def give_names_to_indices(ind):\n",
    "    if ind==0:\n",
    "        return 'Extremely Weak'\n",
    "    elif ind==1:\n",
    "        return 'Weak'\n",
    "    elif ind==2:\n",
    "        return 'Normal'\n",
    "    elif ind==3:\n",
    "        return 'OverWeight'\n",
    "    elif ind==4:\n",
    "        return 'Obesity'\n",
    "    elif ind==5:\n",
    "        return 'Extremely Obese'"
   ]
  },
  {
   "cell_type": "code",
   "execution_count": 8,
   "metadata": {},
   "outputs": [],
   "source": [
    "dataset['Index'] = dataset['Index'].apply(give_names_to_indices)"
   ]
  },
  {
   "cell_type": "code",
   "execution_count": 9,
   "metadata": {},
   "outputs": [
    {
     "data": {
      "text/html": [
       "<div>\n",
       "<style scoped>\n",
       "    .dataframe tbody tr th:only-of-type {\n",
       "        vertical-align: middle;\n",
       "    }\n",
       "\n",
       "    .dataframe tbody tr th {\n",
       "        vertical-align: top;\n",
       "    }\n",
       "\n",
       "    .dataframe thead th {\n",
       "        text-align: right;\n",
       "    }\n",
       "</style>\n",
       "<table border=\"1\" class=\"dataframe\">\n",
       "  <thead>\n",
       "    <tr style=\"text-align: right;\">\n",
       "      <th></th>\n",
       "      <th>Gender</th>\n",
       "      <th>Height</th>\n",
       "      <th>Weight</th>\n",
       "      <th>Index</th>\n",
       "    </tr>\n",
       "  </thead>\n",
       "  <tbody>\n",
       "    <tr>\n",
       "      <th>0</th>\n",
       "      <td>Male</td>\n",
       "      <td>174</td>\n",
       "      <td>96</td>\n",
       "      <td>Obesity</td>\n",
       "    </tr>\n",
       "    <tr>\n",
       "      <th>1</th>\n",
       "      <td>Male</td>\n",
       "      <td>189</td>\n",
       "      <td>87</td>\n",
       "      <td>Normal</td>\n",
       "    </tr>\n",
       "    <tr>\n",
       "      <th>2</th>\n",
       "      <td>Female</td>\n",
       "      <td>185</td>\n",
       "      <td>110</td>\n",
       "      <td>Obesity</td>\n",
       "    </tr>\n",
       "    <tr>\n",
       "      <th>3</th>\n",
       "      <td>Female</td>\n",
       "      <td>195</td>\n",
       "      <td>104</td>\n",
       "      <td>OverWeight</td>\n",
       "    </tr>\n",
       "    <tr>\n",
       "      <th>4</th>\n",
       "      <td>Male</td>\n",
       "      <td>149</td>\n",
       "      <td>61</td>\n",
       "      <td>OverWeight</td>\n",
       "    </tr>\n",
       "    <tr>\n",
       "      <th>...</th>\n",
       "      <td>...</td>\n",
       "      <td>...</td>\n",
       "      <td>...</td>\n",
       "      <td>...</td>\n",
       "    </tr>\n",
       "    <tr>\n",
       "      <th>495</th>\n",
       "      <td>Female</td>\n",
       "      <td>150</td>\n",
       "      <td>153</td>\n",
       "      <td>Extremely Obese</td>\n",
       "    </tr>\n",
       "    <tr>\n",
       "      <th>496</th>\n",
       "      <td>Female</td>\n",
       "      <td>184</td>\n",
       "      <td>121</td>\n",
       "      <td>Obesity</td>\n",
       "    </tr>\n",
       "    <tr>\n",
       "      <th>497</th>\n",
       "      <td>Female</td>\n",
       "      <td>141</td>\n",
       "      <td>136</td>\n",
       "      <td>Extremely Obese</td>\n",
       "    </tr>\n",
       "    <tr>\n",
       "      <th>498</th>\n",
       "      <td>Male</td>\n",
       "      <td>150</td>\n",
       "      <td>95</td>\n",
       "      <td>Extremely Obese</td>\n",
       "    </tr>\n",
       "    <tr>\n",
       "      <th>499</th>\n",
       "      <td>Male</td>\n",
       "      <td>173</td>\n",
       "      <td>131</td>\n",
       "      <td>Extremely Obese</td>\n",
       "    </tr>\n",
       "  </tbody>\n",
       "</table>\n",
       "<p>500 rows × 4 columns</p>\n",
       "</div>"
      ],
      "text/plain": [
       "     Gender  Height  Weight            Index\n",
       "0      Male     174      96          Obesity\n",
       "1      Male     189      87           Normal\n",
       "2    Female     185     110          Obesity\n",
       "3    Female     195     104       OverWeight\n",
       "4      Male     149      61       OverWeight\n",
       "..      ...     ...     ...              ...\n",
       "495  Female     150     153  Extremely Obese\n",
       "496  Female     184     121          Obesity\n",
       "497  Female     141     136  Extremely Obese\n",
       "498    Male     150      95  Extremely Obese\n",
       "499    Male     173     131  Extremely Obese\n",
       "\n",
       "[500 rows x 4 columns]"
      ]
     },
     "execution_count": 9,
     "metadata": {},
     "output_type": "execute_result"
    }
   ],
   "source": [
    "dataset"
   ]
  },
  {
   "cell_type": "code",
   "execution_count": 10,
   "metadata": {},
   "outputs": [],
   "source": [
    "from sklearn.preprocessing import LabelEncoder\n",
    "\n",
    "label_encoder = LabelEncoder()\n",
    "dataset['Gender'] = label_encoder.fit_transform(dataset['Gender'])\n"
   ]
  },
  {
   "cell_type": "code",
   "execution_count": 11,
   "metadata": {},
   "outputs": [
    {
     "data": {
      "text/html": [
       "<div>\n",
       "<style scoped>\n",
       "    .dataframe tbody tr th:only-of-type {\n",
       "        vertical-align: middle;\n",
       "    }\n",
       "\n",
       "    .dataframe tbody tr th {\n",
       "        vertical-align: top;\n",
       "    }\n",
       "\n",
       "    .dataframe thead th {\n",
       "        text-align: right;\n",
       "    }\n",
       "</style>\n",
       "<table border=\"1\" class=\"dataframe\">\n",
       "  <thead>\n",
       "    <tr style=\"text-align: right;\">\n",
       "      <th></th>\n",
       "      <th>Gender</th>\n",
       "      <th>Height</th>\n",
       "      <th>Weight</th>\n",
       "      <th>Index</th>\n",
       "    </tr>\n",
       "  </thead>\n",
       "  <tbody>\n",
       "    <tr>\n",
       "      <th>0</th>\n",
       "      <td>1</td>\n",
       "      <td>174</td>\n",
       "      <td>96</td>\n",
       "      <td>Obesity</td>\n",
       "    </tr>\n",
       "    <tr>\n",
       "      <th>1</th>\n",
       "      <td>1</td>\n",
       "      <td>189</td>\n",
       "      <td>87</td>\n",
       "      <td>Normal</td>\n",
       "    </tr>\n",
       "    <tr>\n",
       "      <th>2</th>\n",
       "      <td>0</td>\n",
       "      <td>185</td>\n",
       "      <td>110</td>\n",
       "      <td>Obesity</td>\n",
       "    </tr>\n",
       "    <tr>\n",
       "      <th>3</th>\n",
       "      <td>0</td>\n",
       "      <td>195</td>\n",
       "      <td>104</td>\n",
       "      <td>OverWeight</td>\n",
       "    </tr>\n",
       "    <tr>\n",
       "      <th>4</th>\n",
       "      <td>1</td>\n",
       "      <td>149</td>\n",
       "      <td>61</td>\n",
       "      <td>OverWeight</td>\n",
       "    </tr>\n",
       "    <tr>\n",
       "      <th>...</th>\n",
       "      <td>...</td>\n",
       "      <td>...</td>\n",
       "      <td>...</td>\n",
       "      <td>...</td>\n",
       "    </tr>\n",
       "    <tr>\n",
       "      <th>495</th>\n",
       "      <td>0</td>\n",
       "      <td>150</td>\n",
       "      <td>153</td>\n",
       "      <td>Extremely Obese</td>\n",
       "    </tr>\n",
       "    <tr>\n",
       "      <th>496</th>\n",
       "      <td>0</td>\n",
       "      <td>184</td>\n",
       "      <td>121</td>\n",
       "      <td>Obesity</td>\n",
       "    </tr>\n",
       "    <tr>\n",
       "      <th>497</th>\n",
       "      <td>0</td>\n",
       "      <td>141</td>\n",
       "      <td>136</td>\n",
       "      <td>Extremely Obese</td>\n",
       "    </tr>\n",
       "    <tr>\n",
       "      <th>498</th>\n",
       "      <td>1</td>\n",
       "      <td>150</td>\n",
       "      <td>95</td>\n",
       "      <td>Extremely Obese</td>\n",
       "    </tr>\n",
       "    <tr>\n",
       "      <th>499</th>\n",
       "      <td>1</td>\n",
       "      <td>173</td>\n",
       "      <td>131</td>\n",
       "      <td>Extremely Obese</td>\n",
       "    </tr>\n",
       "  </tbody>\n",
       "</table>\n",
       "<p>500 rows × 4 columns</p>\n",
       "</div>"
      ],
      "text/plain": [
       "     Gender  Height  Weight            Index\n",
       "0         1     174      96          Obesity\n",
       "1         1     189      87           Normal\n",
       "2         0     185     110          Obesity\n",
       "3         0     195     104       OverWeight\n",
       "4         1     149      61       OverWeight\n",
       "..      ...     ...     ...              ...\n",
       "495       0     150     153  Extremely Obese\n",
       "496       0     184     121          Obesity\n",
       "497       0     141     136  Extremely Obese\n",
       "498       1     150      95  Extremely Obese\n",
       "499       1     173     131  Extremely Obese\n",
       "\n",
       "[500 rows x 4 columns]"
      ]
     },
     "execution_count": 11,
     "metadata": {},
     "output_type": "execute_result"
    }
   ],
   "source": [
    "dataset"
   ]
  },
  {
   "cell_type": "code",
   "execution_count": 12,
   "metadata": {},
   "outputs": [
    {
     "name": "stdout",
     "output_type": "stream",
     "text": [
      "Index\n",
      "Extremely Obese    198\n",
      "Extremely Weak      13\n",
      "Normal              69\n",
      "Obesity            130\n",
      "OverWeight          68\n",
      "Weak                22\n",
      "dtype: int64\n"
     ]
    }
   ],
   "source": [
    "# class distribution\n",
    "print(dataset.groupby('Index').size())"
   ]
  },
  {
   "cell_type": "markdown",
   "metadata": {},
   "source": [
    "## 2.2 Data Visualizations\n",
    "\n",
    "Lets visualize the data so we can understand the distribution of the input attributes. We will use histograms of each attribute, as well as some multivariate plots so that we can view the interactions between variables."
   ]
  },
  {
   "cell_type": "code",
   "execution_count": 13,
   "metadata": {},
   "outputs": [
    {
     "data": {
      "image/png": "[encoded data removed]",
      "text/plain": [
       "<Figure size 640x480 with 4 Axes>"
      ]
     },
     "metadata": {},
     "output_type": "display_data"
    }
   ],
   "source": [
    "# histograms\n",
    "dataset.hist()\n",
    "plt.show()"
   ]
  },
  {
   "cell_type": "code",
   "execution_count": 14,
   "metadata": {},
   "outputs": [
    {
     "data": {
      "image/png": "[encoded data removed]",
      "text/plain": [
       "<Figure size 640x480 with 9 Axes>"
      ]
     },
     "metadata": {},
     "output_type": "display_data"
    }
   ],
   "source": [
    "# scatter plot matrix\n",
    "scatter_matrix(dataset)\n",
    "plt.show()"
   ]
  },
  {
   "cell_type": "markdown",
   "metadata": {},
   "source": [
    "## 3. Evaluate Algorithms\n",
    "\n",
    "Lets create some models of the data and estimate their accuracy on unseen data.\n",
    "\n",
    "We are going to,\n",
    "\n",
    "* Create a validation dataset\n",
    "* Set-up cross validation\n",
    "* Build three different models \n",
    "* Select the best model\n",
    "\n",
    "## 3.1 Create Validation Dataset\n",
    "\n",
    "Lets split the loaded dataset into two.  80% of the data will be used for training, while 20% will be used for validation."
   ]
  },
  {
   "cell_type": "code",
   "execution_count": 15,
   "metadata": {},
   "outputs": [],
   "source": [
    "# Split-out validation dataset\n",
    "array = dataset.values\n",
    "X = array[:,0:3]\n",
    "Y = array[:,3]"
   ]
  },
  {
   "cell_type": "code",
   "execution_count": 16,
   "metadata": {},
   "outputs": [],
   "source": [
    "from sklearn.preprocessing import StandardScaler\n",
    "scaler = StandardScaler()\n",
    "X_scaled = scaler.fit_transform(X)"
   ]
  },
  {
   "cell_type": "code",
   "execution_count": 17,
   "metadata": {},
   "outputs": [],
   "source": [
    "\n",
    "validation_size = 0.20\n",
    "seed = 7\n",
    "X_train, X_validation, Y_train, Y_validation = model_selection.train_test_split(X_scaled, Y, test_size = validation_size, random_state = seed)"
   ]
  },
  {
   "cell_type": "markdown",
   "metadata": {},
   "source": [
    "## 3.2 10-fold Cross Validation\n",
    "\n",
    "This will split our dataset into 10 parts, train on 9 and test on 1 and repeate for all combinations of train-test splits"
   ]
  },
  {
   "cell_type": "code",
   "execution_count": 18,
   "metadata": {},
   "outputs": [],
   "source": [
    "# Test options and evaluation metric\n",
    "seed = 7\n",
    "scoring = 'accuracy'"
   ]
  },
  {
   "cell_type": "markdown",
   "metadata": {},
   "source": [
    "## 3.3 Build Models\n",
    "\n",
    "Lets evaluate three models:\n",
    "\n",
    "* Logistic Regression (LR)\n",
    "* K-Nearest Neighbors (KNN)\n",
    "* Support Vector Machine (SVM)"
   ]
  },
  {
   "cell_type": "code",
   "execution_count": 19,
   "metadata": {},
   "outputs": [
    {
     "name": "stdout",
     "output_type": "stream",
     "text": [
      "LR: 0.825000 (0.041833)\n",
      "KNN: 0.832500 (0.070755)\n",
      "SVM: 0.842500 (0.060260)\n"
     ]
    }
   ],
   "source": [
    "\n",
    "models = []\n",
    "models.append(('LR', LogisticRegression(class_weight='balanced')))\n",
    "models.append(('KNN', KNeighborsClassifier()))\n",
    "models.append(('SVM', SVC()))\n",
    "\n",
    "# evaluate each model in turn\n",
    "results = []\n",
    "names = []\n",
    "\n",
    "for name, model in models:\n",
    "    kfold = model_selection.KFold(n_splits=10, random_state = seed,shuffle=True)\n",
    "    cv_results = model_selection.cross_val_score(model, X_train, Y_train, cv=kfold, scoring=scoring)\n",
    "    results.append(cv_results)\n",
    "    names.append(name)\n",
    "    msg = \"%s: %f (%f)\" % (name, cv_results.mean(), cv_results.std())\n",
    "    print(msg)"
   ]
  },
  {
   "cell_type": "markdown",
   "metadata": {},
   "source": [
    "## 4. Make Predictions\n",
    "\n",
    "Lets test the model on the validation set to make sure that our algorithms can generalize to new data.  Otherwise, we may be overfitting the training data.  "
   ]
  },
  {
   "cell_type": "code",
   "execution_count": 20,
   "metadata": {},
   "outputs": [
    {
     "name": "stdout",
     "output_type": "stream",
     "text": [
      "LR\n",
      "0.82\n",
      "                 precision    recall  f1-score   support\n",
      "\n",
      "Extremely Obese       0.97      0.88      0.93        43\n",
      " Extremely Weak       0.33      1.00      0.50         2\n",
      "         Normal       0.71      0.56      0.63         9\n",
      "        Obesity       0.80      0.83      0.82        24\n",
      "     OverWeight       0.65      0.85      0.73        13\n",
      "           Weak       1.00      0.67      0.80         9\n",
      "\n",
      "       accuracy                           0.82       100\n",
      "      macro avg       0.74      0.80      0.73       100\n",
      "   weighted avg       0.86      0.82      0.83       100\n",
      "\n",
      "KNN\n",
      "0.86\n",
      "                 precision    recall  f1-score   support\n",
      "\n",
      "Extremely Obese       0.95      0.86      0.90        43\n",
      " Extremely Weak       0.20      0.50      0.29         2\n",
      "         Normal       1.00      0.89      0.94         9\n",
      "        Obesity       0.79      0.92      0.85        24\n",
      "     OverWeight       0.93      1.00      0.96        13\n",
      "           Weak       0.83      0.56      0.67         9\n",
      "\n",
      "       accuracy                           0.86       100\n",
      "      macro avg       0.78      0.79      0.77       100\n",
      "   weighted avg       0.89      0.86      0.87       100\n",
      "\n",
      "SVM\n",
      "0.85\n",
      "                 precision    recall  f1-score   support\n",
      "\n",
      "Extremely Obese       0.98      0.93      0.95        43\n",
      " Extremely Weak       0.50      0.50      0.50         2\n",
      "         Normal       0.57      0.89      0.70         9\n",
      "        Obesity       0.85      0.92      0.88        24\n",
      "     OverWeight       0.85      0.85      0.85        13\n",
      "           Weak       0.75      0.33      0.46         9\n",
      "\n",
      "       accuracy                           0.85       100\n",
      "      macro avg       0.75      0.74      0.72       100\n",
      "   weighted avg       0.86      0.85      0.84       100\n",
      "\n"
     ]
    }
   ],
   "source": [
    "# Make predictions on validation dataset\n",
    "\n",
    "for name, model in models:\n",
    "    model.fit(X_train, Y_train)\n",
    "    predictions = model.predict(X_validation)\n",
    "    print(name)\n",
    "    print(accuracy_score(Y_validation, predictions))\n",
    "    print(classification_report(Y_validation, predictions))"
   ]
  },
  {
   "cell_type": "code",
   "execution_count": null,
   "metadata": {},
   "outputs": [],
   "source": []
  }
 ],
 "metadata": {
  "kernelspec": {
   "display_name": "Python 3 (ipykernel)",
   "language": "python",
   "name": "python3"
  },
  "language_info": {
   "codemirror_mode": {
    "name": "ipython",
    "version": 3
   },
   "file_extension": ".py",
   "mimetype": "text/x-python",
   "name": "python",
   "nbconvert_exporter": "python",
   "pygments_lexer": "ipython3",
   "version": "3.11.7"
  }
 },
 "nbformat": 4,
 "nbformat_minor": 4
}
