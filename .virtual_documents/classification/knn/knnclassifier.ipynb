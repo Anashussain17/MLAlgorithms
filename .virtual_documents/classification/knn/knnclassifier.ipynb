import pandas as pd
import matplotlib.pyplot as plt
import seaborn as sns
import numpy as np
from sklearn.metrics import accuracy_score


df=pd.read_csv("weight_height_dataset.csv")
df


X=df.iloc[:,:-1].values
y=df.iloc[:,-1].values


from sklearn.model_selection import train_test_split
X_train,X_test,y_train,y_test=train_test_split(X,y,test_size=0.25,random_state=42)


X_train


y_train


X_test


y_test


from sklearn.preprocessing import StandardScaler
sc=StandardScaler()
X_trainn=sc.fit_transform(X_train)
X_testt=sc.fit_transform(X_test)


X_trainn


X_testt


from sklearn.neighbors import KNeighborsClassifier
classifier = KNeighborsClassifier(n_neighbors = 5, metric = 'minkowski', p = 2)
classifier.fit(X_trainn, y_train)


print(classifier.predict(sc.transform([[150,46]])))


y_pred = classifier.predict(X_testt)
y_pred


from sklearn.metrics import confusion_matrix
cf=confusion_matrix(y_test,y_pred)
cf


labels=classifier.classes_
labels


# Plot confusion matrix
ax = plt.axes()
df_cm = cf

sns.heatmap(df_cm, annot=True, annot_kws={"size": 30}, fmt='d',cmap="Blues", xticklabels=labels, yticklabels=labels,ax = ax )
ax.set_title('Confusion Matrix')
plt.show()


from sklearn.metrics import classification_report,roc_curve,auc
print(classification_report(y_test,y_pred,target_names=labels))





# Assuming X_train is your feature matrix and y_train is your target vector
# Assuming X_train has two features for simplicity

# Convert X_train to a pandas DataFrame for easier visualization with Seaborn

df = pd.DataFrame(X_train, columns=['Height(cm)','Weight(kg)'])
custom_palette = ['#FF5733', '#33FF57', '#3366FF']
# Assuming y_train is your target vector
# Concatenate X_train DataFrame with y_train Series
df['Class'] = y_train
plt.figure(figsize=(8, 6))
sns.scatterplot(data=df, x='Height(cm)', y='Weight(kg)', hue='Class', palette=custom_palette)
plt.xlabel('Height (cm)')
plt.ylabel('Weight (kg)')
plt.title('Scatter Plot of Training Set')
plt.legend(title='Class')
plt.grid(True)
plt.show()





# Assuming X_train is your feature matrix and y_train is your target vector
# Assuming X_train has two features for simplicity

# Convert X_train to a pandas DataFrame for easier visualization with Seaborn

df = pd.DataFrame(X_test, columns=['Height(cm)','Weight(kg)'])
custom_palette = ['#FF5733', '#33FF57', '#3366FF']
# Assuming y_train is your target vector
# Concatenate X_train DataFrame with y_train Series
df['Class'] = y_test
plt.figure(figsize=(8, 6))
sns.scatterplot(data=df, x='Height(cm)', y='Weight(kg)', hue='Class', palette=custom_palette)
plt.xlabel('Height (cm)')
plt.ylabel('Weight (kg)')
plt.title('Scatter Plot of Test Set')
plt.legend(title='Class')
plt.grid(True)
plt.show()



#print("Original Labels",X_test)
#print("Labels Predicted",prediction)

print("Train data accuracy:",accuracy_score(y_true =y_train, y_pred=classifier.predict(X_trainn)))
print("Test data accuracy:",accuracy_score(y_true = y_test, y_pred=classifier.predict(X_testt)))


neighbors=np.arange(1,11)
train_accuracies = []
test_accuracies = []
for k in neighbors:
    knn=KNeighborsClassifier(n_neighbors=k)
    knn.fit(X_trainn,y_train)
    train_accuracy=knn.score(X_trainn,y_train)
    test_accuracy=knn.score(X_testt,y_test)
    train_accuracies.append(train_accuracy)
    test_accuracies.append(test_accuracy)

plt.figure(figsize=(10, 6))
plt.plot(neighbors, train_accuracies, label='Train Accuracy')
plt.plot(neighbors, test_accuracies, label='Test Accuracy')
plt.xlabel('Number of Neighbors (k)')
plt.ylabel('Accuracy')
plt.show()



