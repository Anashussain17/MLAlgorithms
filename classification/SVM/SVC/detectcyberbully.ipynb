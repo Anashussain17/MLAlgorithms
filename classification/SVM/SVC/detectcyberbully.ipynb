{
 "cells": [
  {
   "cell_type": "raw",
   "id": "ec4f99fa-2f8b-4bc6-8817-bf59ef89cdb2",
   "metadata": {},
   "source": [
    "Detecting cyberbullying in text using machine learning (ML) and natural language processing (NLP) is the process of\n",
    "creating models that can automatically identify instances of cyberbullying or offensive language in written content.\n"
   ]
  },
  {
   "cell_type": "code",
   "execution_count": 1,
   "id": "0f23a2e3-b8c0-45a2-960b-e59de3b5ddcf",
   "metadata": {},
   "outputs": [],
   "source": [
    "# Import the necessary libraries \n",
    "import pandas as pd \n",
    "from sklearn.model_selection import train_test_split \n",
    "from sklearn.feature_extraction.text import TfidfVectorizer \n",
    "from sklearn.svm import LinearSVC \n",
    "from sklearn.metrics import accuracy_score, classification_report\n",
    "\n"
   ]
  },
  {
   "cell_type": "code",
   "execution_count": 3,
   "id": "83535be8-44e4-4898-befd-63d84978843f",
   "metadata": {},
   "outputs": [],
   "source": [
    "# Load the cyberbullying data \n",
    "data = pd.read_csv('toxicity_parsed_datasett.csv')\n"
   ]
  },
  {
   "cell_type": "code",
   "execution_count": 5,
   "id": "139e4f49-729c-4dc3-988e-50516f8195af",
   "metadata": {},
   "outputs": [],
   "source": [
    "# Split the data into features (X) and target variable (y)\n",
    "X = data['Text'] \n",
    "y = data['oh_label'] # Split the data into training and testing sets \n",
    "X_train, X_test, y_train, y_test = train_test_split(X, y, test_size=0.2, random_state=42) \n",
    "# Create a TF-IDF vectorizer \n",
    "vectorizer = TfidfVectorizer()\n"
   ]
  },
  {
   "cell_type": "code",
   "execution_count": 6,
   "id": "ebfd8c0f-8fc2-4cda-8a80-351559a24093",
   "metadata": {},
   "outputs": [
    {
     "name": "stderr",
     "output_type": "stream",
     "text": [
      "C:\\Users\\Sana\\anaconda3\\envs\\notebook-7.0.6\\Lib\\site-packages\\sklearn\\svm\\_classes.py:31: FutureWarning: The default value of `dual` will change from `True` to `'auto'` in 1.5. Set the value of `dual` explicitly to suppress the warning.\n",
      "  warnings.warn(\n"
     ]
    },
    {
     "name": "stdout",
     "output_type": "stream",
     "text": [
      "Accuracy: 0.9616757467593462\n",
      "Classification Report:\n",
      "              precision    recall  f1-score   support\n",
      "\n",
      "           0       0.97      0.99      0.98     28858\n",
      "           1       0.87      0.71      0.78      3080\n",
      "\n",
      "    accuracy                           0.96     31938\n",
      "   macro avg       0.92      0.85      0.88     31938\n",
      "weighted avg       0.96      0.96      0.96     31938\n",
      "\n"
     ]
    }
   ],
   "source": [
    "X_train_vectorized = vectorizer.fit_transform(X_train) \n",
    "# Transform the testing data \n",
    "X_test_vectorized = vectorizer.transform(X_test) \n",
    "# Create a LinearSVC classifier \n",
    "classifier = LinearSVC() \n",
    "# Train the classifier \n",
    "classifier.fit(X_train_vectorized, y_train) \n",
    "# Make predictions on the test set\n",
    "predictions = classifier.predict(X_test_vectorized) \n",
    "# Calculate the accuracy and classification report \n",
    "accuracy = accuracy_score(y_test, predictions) \n",
    "report = classification_report(y_test, predictions) \n",
    "print(\"Accuracy:\", accuracy) \n",
    "print(\"Classification Report:\") \n",
    "print(report)\n"
   ]
  },
  {
   "cell_type": "code",
   "execution_count": null,
   "id": "fe735b6b-c356-4fc7-a0fc-f429c93eb545",
   "metadata": {},
   "outputs": [],
   "source": []
  }
 ],
 "metadata": {
  "kernelspec": {
   "display_name": "Python 3 (ipykernel)",
   "language": "python",
   "name": "python3"
  },
  "language_info": {
   "codemirror_mode": {
    "name": "ipython",
    "version": 3
   },
   "file_extension": ".py",
   "mimetype": "text/x-python",
   "name": "python",
   "nbconvert_exporter": "python",
   "pygments_lexer": "ipython3",
   "version": "3.11.8"
  }
 },
 "nbformat": 4,
 "nbformat_minor": 5
}
